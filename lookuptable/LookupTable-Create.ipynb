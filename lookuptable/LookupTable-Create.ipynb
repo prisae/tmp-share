{
 "cells": [
  {
   "cell_type": "markdown",
   "id": "4fc819ee",
   "metadata": {},
   "source": [
    "# Lookup Table - Create Data"
   ]
  },
  {
   "cell_type": "code",
   "execution_count": 1,
   "id": "9cd92dc7",
   "metadata": {},
   "outputs": [],
   "source": [
    "import scooby\n",
    "import numpy as np"
   ]
  },
  {
   "cell_type": "markdown",
   "id": "21cbf92c",
   "metadata": {},
   "source": [
    "## Forward model: 3 model parameters (`p`, `q`, `r`); 5 measurements"
   ]
  },
  {
   "cell_type": "code",
   "execution_count": 2,
   "id": "a1772a27",
   "metadata": {},
   "outputs": [],
   "source": [
    "def forward(p, q, r):\n",
    "    \"\"\"Simple set of five linear equations, simulating 5 measurements.\"\"\"\n",
    "    \n",
    "    data1 = 3*p + 4*q + 5*r\n",
    "    data2 = 2*p + 5*q + 2*r\n",
    "    data3 = 4*p + 9*q + 0*r\n",
    "    data4 = 0*p + 9*q + 4*r\n",
    "    data5 = 4*p + 0*q + 6*r\n",
    "       \n",
    "    return np.stack([data1, data2, data3, data4, data5], axis=-1)"
   ]
  },
  {
   "cell_type": "markdown",
   "id": "5f85f4a9",
   "metadata": {},
   "source": [
    "## Generate Lookup Table\n",
    "\n",
    "Assumption:\n",
    "\n",
    "- p: #60; 1 < p < 5\n",
    "- q: #50; 0 < q < 2\n",
    "- r: #40; 10 < r < 70"
   ]
  },
  {
   "cell_type": "code",
   "execution_count": 3,
   "id": "238ef799",
   "metadata": {},
   "outputs": [
    {
     "name": "stdout",
     "output_type": "stream",
     "text": [
      "Shape: (p, q, r, ndat): (60, 50, 40, 5)\n"
     ]
    }
   ],
   "source": [
    "pp = np.linspace(1, 5, 60)\n",
    "qq = np.linspace(0, 2, 50)\n",
    "rr = np.linspace(10, 70, 40)\n",
    "\n",
    "# One big table\n",
    "lookuptable = forward(pp[:, None, None], qq[None, :, None], rr[None, None, :])\n",
    "\n",
    "with open('lookuptable.npz', 'bw') as f:\n",
    "    np.savez(f, lookuptable=lookuptable, pp=pp, qq=qq, rr=rr)\n",
    "\n",
    "print(f\"Shape: (p, q, r, ndat): {lookuptable.shape}\")\n",
    "\n",
    "# Split table by data; sort and store\n",
    "\n",
    "def sort_table(table):\n",
    "    i = np.argsort(table, axis=None).astype(np.int32)\n",
    "    ts = table.ravel()[i]\n",
    "    return i, ts\n",
    "\n",
    "# Sort the arrays\n",
    "for i in range(lookuptable.shape[-1]):\n",
    "    ilt, lookuptable_sorted = sort_table(lookuptable[..., i])\n",
    "\n",
    "    with open(f\"lookuptable-sorted{i}.npz\", 'bw') as f:\n",
    "        np.savez(f, lookuptable=lookuptable_sorted, indices=ilt, pp=pp, qq=qq, rr=rr)"
   ]
  },
  {
   "cell_type": "markdown",
   "id": "68c713fd",
   "metadata": {},
   "source": [
    "## Create some synthetic data"
   ]
  },
  {
   "cell_type": "code",
   "execution_count": 4,
   "id": "ce0e5559",
   "metadata": {},
   "outputs": [
    {
     "name": "stdout",
     "output_type": "stream",
     "text": [
      "Synthetic data1: [262.5 110.9  20.7 209.9 310.8]\n",
      "Synthetic data2: [365. 150.  20. 280. 440.]\n",
      "Synthetic data3: [244.5 100.   22.  192.  291. ]\n"
     ]
    }
   ],
   "source": [
    "# \"True\" model parameters\n",
    "p1, q1, r1 = 2.7, 1.1, 50.0\n",
    "p2, q2, r2 = 5, 0, 70\n",
    "p3, q3, r3 = 3.5, 1, 45\n",
    "\n",
    "\n",
    "\n",
    "# \"Measured\" data\n",
    "data1 = np.array(forward(p1, q1, r1), dtype=np.float32)  # Regular\n",
    "data2 = np.array(forward(p2, q2, r2), dtype=np.float32)  # Limits\n",
    "data3 = np.array(forward(p3, q3, r3), dtype=np.float32)  # With nose\n",
    "data3 += [5, -2, -1, 3, 7]                          # ^ ^ ^\n",
    "\n",
    "print(f\"Synthetic data1: {data1}\")\n",
    "print(f\"Synthetic data2: {data2}\")\n",
    "print(f\"Synthetic data3: {data3}\")\n",
    "\n",
    "with open('lut-data.npz', 'bw') as f:\n",
    "    np.savez(f, data1=data1, data2=data2, data3=data3,\n",
    "             true1=(p1, q1, r1), true2=(p2, q2, r2), true3=(p3, q3, r3))"
   ]
  },
  {
   "cell_type": "code",
   "execution_count": 5,
   "id": "ca05cc74",
   "metadata": {},
   "outputs": [
    {
     "data": {
      "text/html": [
       "<table style='border: 1.5px solid;'>\n",
       "  <tr>\n",
       "     <td style='text-align: center; font-weight: bold; font-size: 1.2em; border: 1px solid;' colspan='8'>Fri Apr 21 20:00:37 2023 CEST</td>\n",
       "  </tr>\n",
       "  <tr>\n",
       "    <td style='text-align: right; border: 1px solid;'>OS</td>\n",
       "    <td style='text-align: left; border: 1px solid;'>Linux</td>\n",
       "    <td style='text-align: right; border: 1px solid;'>CPU(s)</td>\n",
       "    <td style='text-align: left; border: 1px solid;'>4</td>\n",
       "    <td style='text-align: right; border: 1px solid;'>Machine</td>\n",
       "    <td style='text-align: left; border: 1px solid;'>x86_64</td>\n",
       "    <td style='text-align: right; border: 1px solid;'>Architecture</td>\n",
       "    <td style='text-align: left; border: 1px solid;'>64bit</td>\n",
       "  </tr>\n",
       "  <tr>\n",
       "    <td style='text-align: right; border: 1px solid;'>RAM</td>\n",
       "    <td style='text-align: left; border: 1px solid;'>15.5 GiB</td>\n",
       "    <td style='text-align: right; border: 1px solid;'>Environment</td>\n",
       "    <td style='text-align: left; border: 1px solid;'>Jupyter</td>\n",
       "    <td style='text-align: right; border: 1px solid;'>File system</td>\n",
       "    <td style='text-align: left; border: 1px solid;'>ext4</td>\n",
       "  </tr>\n",
       "  <tr>\n",
       "     <td style='text-align: center; border: 1px solid;' colspan='8'>Python 3.10.9 | packaged by conda-forge | (main, Feb  2 2023, 20:20:04) [GCC 11.3.0]</td>\n",
       "  </tr>\n",
       "  <tr>\n",
       "    <td style='text-align: right; border: 1px solid;'>numpy</td>\n",
       "    <td style='text-align: left; border: 1px solid;'>1.23.5</td>\n",
       "    <td style='text-align: right; border: 1px solid;'>scipy</td>\n",
       "    <td style='text-align: left; border: 1px solid;'>1.10.0</td>\n",
       "    <td style='text-align: right; border: 1px solid;'>IPython</td>\n",
       "    <td style='text-align: left; border: 1px solid;'>8.9.0</td>\n",
       "    <td style='text-align: right; border: 1px solid;'>matplotlib</td>\n",
       "    <td style='text-align: left; border: 1px solid;'>3.6.3</td>\n",
       "  </tr>\n",
       "  <tr>\n",
       "    <td style='text-align: right; border: 1px solid;'>scooby</td>\n",
       "    <td style='text-align: left; border: 1px solid;'>0.7.1</td>\n",
       "    <td style= border: 1px solid;'></td>\n",
       "    <td style= border: 1px solid;'></td>\n",
       "    <td style= border: 1px solid;'></td>\n",
       "    <td style= border: 1px solid;'></td>\n",
       "    <td style= border: 1px solid;'></td>\n",
       "    <td style= border: 1px solid;'></td>\n",
       "  </tr>\n",
       "  <tr>\n",
       "     <td style='text-align: center; border: 1px solid;' colspan='8'>Intel(R) oneAPI Math Kernel Library Version 2022.2-Product Build 20220804 for Intel(R) 64 architecture applications</td>\n",
       "  </tr>\n",
       "</table>"
      ],
      "text/plain": [
       "\n",
       "--------------------------------------------------------------------------------\n",
       "  Date: Fri Apr 21 20:00:37 2023 CEST\n",
       "\n",
       "                OS : Linux\n",
       "            CPU(s) : 4\n",
       "           Machine : x86_64\n",
       "      Architecture : 64bit\n",
       "               RAM : 15.5 GiB\n",
       "       Environment : Jupyter\n",
       "       File system : ext4\n",
       "\n",
       "  Python 3.10.9 | packaged by conda-forge | (main, Feb  2 2023, 20:20:04) [GCC\n",
       "  11.3.0]\n",
       "\n",
       "             numpy : 1.23.5\n",
       "             scipy : 1.10.0\n",
       "           IPython : 8.9.0\n",
       "        matplotlib : 3.6.3\n",
       "            scooby : 0.7.1\n",
       "\n",
       "  Intel(R) oneAPI Math Kernel Library Version 2022.2-Product Build 20220804\n",
       "  for Intel(R) 64 architecture applications\n",
       "--------------------------------------------------------------------------------"
      ]
     },
     "execution_count": 5,
     "metadata": {},
     "output_type": "execute_result"
    }
   ],
   "source": [
    "scooby.Report()"
   ]
  }
 ],
 "metadata": {
  "kernelspec": {
   "display_name": "Python 3 (ipykernel)",
   "language": "python",
   "name": "python3"
  },
  "language_info": {
   "codemirror_mode": {
    "name": "ipython",
    "version": 3
   },
   "file_extension": ".py",
   "mimetype": "text/x-python",
   "name": "python",
   "nbconvert_exporter": "python",
   "pygments_lexer": "ipython3",
   "version": "3.10.9"
  }
 },
 "nbformat": 4,
 "nbformat_minor": 5
}
