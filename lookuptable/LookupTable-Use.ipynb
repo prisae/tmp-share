{
 "cells": [
  {
   "cell_type": "markdown",
   "id": "4fc819ee",
   "metadata": {},
   "source": [
    "# Lookup Table - Use"
   ]
  },
  {
   "cell_type": "code",
   "execution_count": 1,
   "id": "9cd92dc7",
   "metadata": {},
   "outputs": [],
   "source": [
    "import scooby\n",
    "import numpy as np"
   ]
  },
  {
   "cell_type": "markdown",
   "id": "5271bdd0",
   "metadata": {},
   "source": [
    "## Load data"
   ]
  },
  {
   "cell_type": "code",
   "execution_count": 2,
   "id": "788d20e3",
   "metadata": {},
   "outputs": [],
   "source": [
    "with open('lut-data.npz', 'br') as f:\n",
    "    dat = np.load(f)\n",
    "    all_data = dat['data1'], dat['data2'], dat['data3']\n",
    "    all_params = dat['true1'], dat['true2'], dat['true3']"
   ]
  },
  {
   "cell_type": "code",
   "execution_count": 3,
   "id": "238ef799",
   "metadata": {},
   "outputs": [],
   "source": [
    "idat = 0\n",
    "\n",
    "# Load data\n",
    "data = all_data[idat]\n",
    "\n",
    "# Load \"true\" model parameters\n",
    "p, q, r = all_params[idat]"
   ]
  },
  {
   "cell_type": "markdown",
   "id": "108ef352",
   "metadata": {},
   "source": [
    "# 1. Full matrix computation\n",
    "\n",
    "If memory allows, this is the easiest way (not necessarily the fastest, that depends on problem size and one would have to test)."
   ]
  },
  {
   "cell_type": "code",
   "execution_count": 4,
   "id": "71b20a94",
   "metadata": {},
   "outputs": [
    {
     "name": "stdout",
     "output_type": "stream",
     "text": [
      "Shape: (p, q, r, ndat): (60, 50, 40, 5)\n"
     ]
    }
   ],
   "source": [
    "# Load table\n",
    "with open('lookuptable.npz', 'br') as f:\n",
    "    dat = np.load(f)\n",
    "    lookuptable = dat['lookuptable']\n",
    "    pp = dat['pp']\n",
    "    qq = dat['qq']\n",
    "    rr = dat['rr']\n",
    "\n",
    "print(f\"Shape: (p, q, r, ndat): {lookuptable.shape}\")"
   ]
  },
  {
   "cell_type": "code",
   "execution_count": 5,
   "id": "c2c94213",
   "metadata": {},
   "outputs": [
    {
     "name": "stdout",
     "output_type": "stream",
     "text": [
      "DATA - Synthetic   : [262.5 110.9  20.7 209.9 310.8]\n",
      "     - Lookuptable : [262.49290903 110.90003459  20.69802836 209.91836735 310.77966102]\n",
      "\n",
      "PARAMETERS - True  : [2.7, 1.1, 50.0]\n",
      "             Found : [2.694915254237288, 1.1020408163265305, 50.0]\n"
     ]
    }
   ],
   "source": [
    "# Compute the difference\n",
    "diff = lookuptable - data\n",
    "\n",
    "# Squaring it and summing along the data-axis (np.einsum is a powerful tool)\n",
    "summed_square_diff = np.einsum('pqrd,pqrd->pqr', diff, diff)\n",
    "\n",
    "# Get the indices of the minimum\n",
    "ip, iq, ir = np.unravel_index(np.argmin(summed_square_diff), lookuptable.shape[:-1])\n",
    "\n",
    "# Check the data\n",
    "print(f\"DATA - Synthetic   : {data}\")\n",
    "print(f\"     - Lookuptable : {lookuptable[ip, iq, ir, :]}\", end=\"\\n\\n\")\n",
    "\n",
    "# Check the parameters\n",
    "print(f\"PARAMETERS - True  : {[p, q, r]}\")\n",
    "print(f\"             Found : {[pp[ip], qq[iq], rr[ir]]}\")"
   ]
  },
  {
   "cell_type": "markdown",
   "id": "b76cdb94",
   "metadata": {},
   "source": [
    "# 2. Using sorted arrays per data-point and a range\n",
    "\n",
    "If one massive table is too big for memory, you can split it along the data axis.\n",
    "\n",
    "**Note**: This still has to be expanded to make it fully functional for sequential runs for big matrices, as currently we still load all matrices."
   ]
  },
  {
   "cell_type": "code",
   "execution_count": 6,
   "id": "2ff07dfb",
   "metadata": {},
   "outputs": [],
   "source": [
    "with open(\"lookuptable-sorted0.npz\", 'br') as f:\n",
    "    dat = np.load(f)\n",
    "    ilt0, lookuptable0s = dat['indices'], dat['lookuptable']\n",
    "    pp = dat['pp']\n",
    "    qq = dat['qq']\n",
    "    rr = dat['rr']\n",
    "with open(\"lookuptable-sorted1.npz\", 'br') as f:\n",
    "    dat = np.load(f)\n",
    "    ilt1, lookuptable1s = dat['indices'], dat['lookuptable']\n",
    "with open(\"lookuptable-sorted2.npz\", 'br') as f:\n",
    "    dat = np.load(f)\n",
    "    ilt2, lookuptable2s = dat['indices'], dat['lookuptable']\n",
    "with open(\"lookuptable-sorted3.npz\", 'br') as f:\n",
    "    dat = np.load(f)\n",
    "    ilt3, lookuptable3s = dat['indices'], dat['lookuptable']\n",
    "with open(\"lookuptable-sorted4.npz\", 'br') as f:\n",
    "    dat = np.load(f)\n",
    "    ilt4, lookuptable4s = dat['indices'], dat['lookuptable']"
   ]
  },
  {
   "cell_type": "code",
   "execution_count": 7,
   "id": "1a4ab617",
   "metadata": {},
   "outputs": [
    {
     "name": "stdout",
     "output_type": "stream",
     "text": [
      "Number of acceptable models: 17\n"
     ]
    }
   ],
   "source": [
    "# Relative error that is considered \"acceptable\"\n",
    "# You should keep it as small as possible, to reduce the possible models\n",
    "rel_err = 0.01\n",
    "\n",
    "def get_set(sorted_table, sorted_indices, data, rel_error):\n",
    "\n",
    "    # Get first and last index of sorted table\n",
    "    abs_err = rel_err*abs(data)\n",
    "    imin = np.searchsorted(sorted_table, data - abs_err)\n",
    "    imax = np.searchsorted(sorted_table, data + abs_err)\n",
    "    \n",
    "    # Return set of acceptables indices\n",
    "    return set(sorted_indices[imin:imax])\n",
    "\n",
    "# Create sets of all possible indices\n",
    "r0 = get_set(lookuptable0s, ilt0, data[0], rel_err)\n",
    "r1 = get_set(lookuptable1s, ilt1, data[1], rel_err)\n",
    "r2 = get_set(lookuptable2s, ilt2, data[2], rel_err)\n",
    "r3 = get_set(lookuptable3s, ilt3, data[3], rel_err)\n",
    "r4 = get_set(lookuptable4s, ilt4, data[4], rel_err)\n",
    "\n",
    "# Get overlap of indices for all three (sets are fast)\n",
    "overlap = set.intersection(r0, r1, r2, r3, r4)\n",
    "\n",
    "# If there is no overlap, raise an error.\n",
    "if not overlap:\n",
    "    raise ValueError(f\"No solution found, increase rel_err! (Current rel_err: {rel_err})\")\n",
    "    \n",
    "# Get the indices of the overlapping models.\n",
    "# => THE SMALLER THIS NUMBER, THE FASTER THE NEXT CELL WILL BE\n",
    "ind_possible = [np.unravel_index(o, (pp.size, qq.size, rr.size)) for o in overlap]\n",
    "print(f\"Number of acceptable models: {len(ind_possible)}\")"
   ]
  },
  {
   "cell_type": "code",
   "execution_count": 8,
   "id": "33a1aa91",
   "metadata": {},
   "outputs": [
    {
     "name": "stdout",
     "output_type": "stream",
     "text": [
      "DATA - Synthetic   : [262.5 110.9  20.7 209.9 310.8]\n",
      "     - Lookuptable : [262.49290903 110.90003459  20.69802836 209.91836735 310.77966102]\n",
      "\n",
      "PARAMETERS - True  : [2.7, 1.1, 50.0]\n",
      "             Found : [2.694915254237288, 1.1020408163265305, 50.0]\n"
     ]
    }
   ],
   "source": [
    "# Collect the possible models\n",
    "possible_models = np.array([\n",
    "    np.r_[\n",
    "        lookuptable0s[ilt0==o],\n",
    "        lookuptable1s[ilt1==o],\n",
    "        lookuptable2s[ilt2==o],\n",
    "        lookuptable3s[ilt3==o],\n",
    "        lookuptable4s[ilt4==o],\n",
    "    ]\n",
    " for o in overlap]\n",
    ")\n",
    "\n",
    "# Compute the difference\n",
    "diff = possible_models - data\n",
    "\n",
    "# Squaring it and summing along the data-axis\n",
    "summed_square_diff = np.einsum('ld,ld->l', diff, diff)\n",
    "\n",
    "# Get the indices of the minimum\n",
    "imin = np.argmin(summed_square_diff)\n",
    "ip, iq, ir = ind_possible[imin]\n",
    "\n",
    "# Check the data\n",
    "print(f\"DATA - Synthetic   : {data}\")\n",
    "print(f\"     - Lookuptable : {possible_models[imin, :]}\", end=\"\\n\\n\")\n",
    "\n",
    "# Check the parameters\n",
    "print(f\"PARAMETERS - True  : {[p, q, r]}\")\n",
    "print(f\"             Found : {[pp[ip], qq[iq], rr[ir]]}\")"
   ]
  },
  {
   "cell_type": "code",
   "execution_count": 9,
   "id": "ca05cc74",
   "metadata": {},
   "outputs": [
    {
     "data": {
      "text/html": [
       "<table style='border: 1.5px solid;'>\n",
       "  <tr>\n",
       "     <td style='text-align: center; font-weight: bold; font-size: 1.2em; border: 1px solid;' colspan='8'>Fri Apr 21 19:58:56 2023 CEST</td>\n",
       "  </tr>\n",
       "  <tr>\n",
       "    <td style='text-align: right; border: 1px solid;'>OS</td>\n",
       "    <td style='text-align: left; border: 1px solid;'>Linux</td>\n",
       "    <td style='text-align: right; border: 1px solid;'>CPU(s)</td>\n",
       "    <td style='text-align: left; border: 1px solid;'>4</td>\n",
       "    <td style='text-align: right; border: 1px solid;'>Machine</td>\n",
       "    <td style='text-align: left; border: 1px solid;'>x86_64</td>\n",
       "    <td style='text-align: right; border: 1px solid;'>Architecture</td>\n",
       "    <td style='text-align: left; border: 1px solid;'>64bit</td>\n",
       "  </tr>\n",
       "  <tr>\n",
       "    <td style='text-align: right; border: 1px solid;'>RAM</td>\n",
       "    <td style='text-align: left; border: 1px solid;'>15.5 GiB</td>\n",
       "    <td style='text-align: right; border: 1px solid;'>Environment</td>\n",
       "    <td style='text-align: left; border: 1px solid;'>Jupyter</td>\n",
       "    <td style='text-align: right; border: 1px solid;'>File system</td>\n",
       "    <td style='text-align: left; border: 1px solid;'>ext4</td>\n",
       "  </tr>\n",
       "  <tr>\n",
       "     <td style='text-align: center; border: 1px solid;' colspan='8'>Python 3.10.9 | packaged by conda-forge | (main, Feb  2 2023, 20:20:04) [GCC 11.3.0]</td>\n",
       "  </tr>\n",
       "  <tr>\n",
       "    <td style='text-align: right; border: 1px solid;'>numpy</td>\n",
       "    <td style='text-align: left; border: 1px solid;'>1.23.5</td>\n",
       "    <td style='text-align: right; border: 1px solid;'>scipy</td>\n",
       "    <td style='text-align: left; border: 1px solid;'>1.10.0</td>\n",
       "    <td style='text-align: right; border: 1px solid;'>IPython</td>\n",
       "    <td style='text-align: left; border: 1px solid;'>8.9.0</td>\n",
       "    <td style='text-align: right; border: 1px solid;'>matplotlib</td>\n",
       "    <td style='text-align: left; border: 1px solid;'>3.6.3</td>\n",
       "  </tr>\n",
       "  <tr>\n",
       "    <td style='text-align: right; border: 1px solid;'>scooby</td>\n",
       "    <td style='text-align: left; border: 1px solid;'>0.7.1</td>\n",
       "    <td style= border: 1px solid;'></td>\n",
       "    <td style= border: 1px solid;'></td>\n",
       "    <td style= border: 1px solid;'></td>\n",
       "    <td style= border: 1px solid;'></td>\n",
       "    <td style= border: 1px solid;'></td>\n",
       "    <td style= border: 1px solid;'></td>\n",
       "  </tr>\n",
       "  <tr>\n",
       "     <td style='text-align: center; border: 1px solid;' colspan='8'>Intel(R) oneAPI Math Kernel Library Version 2022.2-Product Build 20220804 for Intel(R) 64 architecture applications</td>\n",
       "  </tr>\n",
       "</table>"
      ],
      "text/plain": [
       "\n",
       "--------------------------------------------------------------------------------\n",
       "  Date: Fri Apr 21 19:58:56 2023 CEST\n",
       "\n",
       "                OS : Linux\n",
       "            CPU(s) : 4\n",
       "           Machine : x86_64\n",
       "      Architecture : 64bit\n",
       "               RAM : 15.5 GiB\n",
       "       Environment : Jupyter\n",
       "       File system : ext4\n",
       "\n",
       "  Python 3.10.9 | packaged by conda-forge | (main, Feb  2 2023, 20:20:04) [GCC\n",
       "  11.3.0]\n",
       "\n",
       "             numpy : 1.23.5\n",
       "             scipy : 1.10.0\n",
       "           IPython : 8.9.0\n",
       "        matplotlib : 3.6.3\n",
       "            scooby : 0.7.1\n",
       "\n",
       "  Intel(R) oneAPI Math Kernel Library Version 2022.2-Product Build 20220804\n",
       "  for Intel(R) 64 architecture applications\n",
       "--------------------------------------------------------------------------------"
      ]
     },
     "execution_count": 9,
     "metadata": {},
     "output_type": "execute_result"
    }
   ],
   "source": [
    "scooby.Report()"
   ]
  }
 ],
 "metadata": {
  "kernelspec": {
   "display_name": "Python 3 (ipykernel)",
   "language": "python",
   "name": "python3"
  },
  "language_info": {
   "codemirror_mode": {
    "name": "ipython",
    "version": 3
   },
   "file_extension": ".py",
   "mimetype": "text/x-python",
   "name": "python",
   "nbconvert_exporter": "python",
   "pygments_lexer": "ipython3",
   "version": "3.10.9"
  }
 },
 "nbformat": 4,
 "nbformat_minor": 5
}
