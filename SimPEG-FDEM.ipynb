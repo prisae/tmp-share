{
 "cells": [
  {
   "cell_type": "markdown",
   "id": "4c21ab4f",
   "metadata": {
    "iooxa": {
     "id": {
      "block": "4uRXh0OBcPxv5N02ybNM",
      "project": "5nikFkqMA7ZGysNRRIxy",
      "version": 1
     }
    }
   },
   "source": [
    "# SimPEG: FDEM\n",
    "\n",
    "Some oddities with SimPEG. I mentioned them in Slack and we discussed it to some extent, but in Slack they will get lost over time..."
   ]
  },
  {
   "cell_type": "code",
   "execution_count": 1,
   "id": "90d41c40",
   "metadata": {
    "iooxa": {
     "id": {
      "block": "jlm00rV35kXzA1ZETCxL",
      "project": "5nikFkqMA7ZGysNRRIxy",
      "version": 1
     },
     "outputId": null
    }
   },
   "outputs": [],
   "source": [
    "import SimPEG\n",
    "import discretize\n",
    "import numpy as np\n",
    "import matplotlib.pyplot as plt\n",
    "from pymatsolver import Pardiso\n",
    "from matplotlib.colors import LogNorm\n",
    "import SimPEG.electromagnetics.frequency_domain as fdem"
   ]
  },
  {
   "cell_type": "code",
   "execution_count": 2,
   "id": "a3425a2a",
   "metadata": {
    "iooxa": {
     "id": {
      "block": "ffpSnKh66mgK80FggWKj",
      "project": "5nikFkqMA7ZGysNRRIxy",
      "version": 3
     },
     "outputId": {
      "block": "VYz7eZxNpGgMpOffYz7K",
      "project": "5nikFkqMA7ZGysNRRIxy",
      "version": 1
     }
    }
   },
   "outputs": [
    {
     "data": {
      "text/html": [
       "<table>\n",
       "  <tr>\n",
       "    <td style='font-weight: bold; font-size: 1.2em; text-align: center;' colspan='3'>TensorMesh</td>\n",
       "    <td style='font-size: 1.2em; text-align: center;'colspan='4'>32,768 cells</td>\n",
       "  </tr>\n",
       "  <tr>\n",
       "    <th></th>\n",
       "    <th></th>\n",
       "    <th colspan='2' style='padding: 5px 20px 5px 20px;'>MESH EXTENT</th>\n",
       "    <th colspan='2' style='padding: 5px 20px 5px 20px;'>CELL WIDTH</th>\n",
       "    <th style='padding: 5px 20px 5px 20px;'>FACTOR</th>\n",
       "  </tr>\n",
       "  <tr>\n",
       "    <th style='padding: 5px 20px 5px 20px;'>dir</th>\n",
       "    <th style='padding: 5px 20px 5px 20px;'>nC</th>\n",
       "    <th style='padding: 5px 20px 5px 20px;'>min</th>\n",
       "    <th style='padding: 5px 20px 5px 20px;'>max</th>\n",
       "    <th style='padding: 5px 20px 5px 20px;'>min</th>\n",
       "    <th style='padding: 5px 20px 5px 20px;'>max</th>\n",
       "    <th style='padding: 5px 20px 5px 20px;'>max</th>\n",
       "  </tr>\n",
       "  <tr>\n",
       "    <td style='padding: 5px 20px 5px 20px;'>x</td>\n",
       "    <td style='padding: 5px 20px 5px 20px;'>32</td>\n",
       "    <td style='padding: 5px 20px 5px 20px;'>-7,832.70</td>\n",
       "    <td style='padding: 5px 20px 5px 20px;'>7,832.70</td>\n",
       "    <td style='padding: 5px 20px 5px 20px;'>100.00</td>\n",
       "    <td style='padding: 5px 20px 5px 20px;'>1,792.16</td>\n",
       "    <td style='padding: 5px 20px 5px 20px;'>1.30</td>\n",
       "  </tr>\n",
       "  <tr>\n",
       "    <td style='padding: 5px 20px 5px 20px;'>y</td>\n",
       "    <td style='padding: 5px 20px 5px 20px;'>32</td>\n",
       "    <td style='padding: 5px 20px 5px 20px;'>-7,832.70</td>\n",
       "    <td style='padding: 5px 20px 5px 20px;'>7,832.70</td>\n",
       "    <td style='padding: 5px 20px 5px 20px;'>100.00</td>\n",
       "    <td style='padding: 5px 20px 5px 20px;'>1,792.16</td>\n",
       "    <td style='padding: 5px 20px 5px 20px;'>1.30</td>\n",
       "  </tr>\n",
       "  <tr>\n",
       "    <td style='padding: 5px 20px 5px 20px;'>z</td>\n",
       "    <td style='padding: 5px 20px 5px 20px;'>32</td>\n",
       "    <td style='padding: 5px 20px 5px 20px;'>-7,832.70</td>\n",
       "    <td style='padding: 5px 20px 5px 20px;'>7,832.70</td>\n",
       "    <td style='padding: 5px 20px 5px 20px;'>100.00</td>\n",
       "    <td style='padding: 5px 20px 5px 20px;'>1,792.16</td>\n",
       "    <td style='padding: 5px 20px 5px 20px;'>1.30</td>\n",
       "  </tr>\n",
       "</table>\n"
      ],
      "text/plain": [
       "\n",
       "  TensorMesh: 32,768 cells\n",
       "\n",
       "                      MESH EXTENT             CELL WIDTH      FACTOR\n",
       "  dir    nC        min           max         min       max      max\n",
       "  ---   ---  ---------------------------  ------------------  ------\n",
       "   x     32     -7,832.70      7,832.70    100.00  1,792.16    1.30\n",
       "   y     32     -7,832.70      7,832.70    100.00  1,792.16    1.30\n",
       "   z     32     -7,832.70      7,832.70    100.00  1,792.16    1.30\n"
      ]
     },
     "execution_count": 2,
     "metadata": {},
     "output_type": "execute_result"
    }
   ],
   "source": [
    "# Simple small mesh\n",
    "#hx = [(120, 5, -1.2), (120, 14), (120, 5, 1.2)]\n",
    "hx = [(100.0, 11, -1.3), (100.0, 10), (100.0, 11, 1.3)]\n",
    "mesh = discretize.TensorMesh([hx, hx, hx], x0=\"CCC\")\n",
    "mesh"
   ]
  },
  {
   "cell_type": "code",
   "execution_count": 3,
   "id": "0fe287b9",
   "metadata": {
    "iooxa": {
     "id": {
      "block": "ffpSnKh66mgK80FggWKj",
      "project": "5nikFkqMA7ZGysNRRIxy",
      "version": 2
     },
     "outputId": null
    }
   },
   "outputs": [],
   "source": [
    "# Frequency and conductivity model\n",
    "frequency = 1\n",
    "cond_model = np.ones(mesh.n_cells)"
   ]
  },
  {
   "cell_type": "markdown",
   "id": "68991083",
   "metadata": {
    "iooxa": {
     "id": {
      "block": "XO5wOmfzQ84vyLs3yWw5",
      "project": "5nikFkqMA7ZGysNRRIxy",
      "version": 1
     }
    }
   },
   "source": [
    "## 1. Repeatability\n",
    "\n",
    "### Issue\n",
    "Repeated runs of exactly the same **do not produce exactly the same** results."
   ]
  },
  {
   "cell_type": "code",
   "execution_count": 4,
   "id": "4906cf51",
   "metadata": {
    "iooxa": {
     "id": {
      "block": "DASGiZg9NLuz2aUoPT4g",
      "project": "5nikFkqMA7ZGysNRRIxy",
      "version": 2
     },
     "outputId": {
      "block": "GNuo6C1xsOcU295spAHV",
      "project": "5nikFkqMA7ZGysNRRIxy",
      "version": 2
     }
    }
   },
   "outputs": [
    {
     "name": "stdout",
     "output_type": "stream",
     "text": [
      "Max diff between two SimPEG runs: 1.32e-19\n"
     ]
    }
   ],
   "source": [
    "# Source and Survey\n",
    "src = fdem.sources.LineCurrent([], location=[[-100, 0, 0], [100, 0, 0]], frequency=frequency)\n",
    "survey = fdem.Survey([src, ])\n",
    "\n",
    "# Simulation\n",
    "sim = fdem.simulation.Simulation3DElectricField(\n",
    "    mesh, survey=survey, solver=Pardiso,\n",
    "    sigmaMap=SimPEG.maps.IdentityMap(mesh),\n",
    ")\n",
    " \n",
    "# Run two runs\n",
    "se1 = sim.fields(cond_model)[survey.source_list[0], 'e'][:, 0]\n",
    "se2 = sim.fields(cond_model)[survey.source_list[0], 'e'][:, 0]\n",
    "\n",
    "# Compare\n",
    "diff = abs(se1 - se2)\n",
    "print(f\"Max diff between two SimPEG runs: {max(diff):.2e}\")"
   ]
  },
  {
   "cell_type": "code",
   "execution_count": 5,
   "id": "aacf491f",
   "metadata": {
    "iooxa": {
     "id": {
      "block": "bWy4epDnXBDNurwdIMoX",
      "project": "5nikFkqMA7ZGysNRRIxy",
      "version": 2
     },
     "outputId": {
      "block": "gvYOWLDxLAQF73lHmXRZ",
      "project": "5nikFkqMA7ZGysNRRIxy",
      "version": 2
     }
    }
   },
   "outputs": [
    {
     "data": {
      "text/plain": [
       "<matplotlib.colorbar.Colorbar at 0x7fd8f724c070>"
      ]
     },
     "execution_count": 5,
     "metadata": {},
     "output_type": "execute_result"
    },
    {
     "data": {
      "image/png": "[encoded data removed]",
      "text/plain": [
       "<Figure size 648x432 with 8 Axes>"
      ]
     },
     "metadata": {
      "needs_background": "light"
     },
     "output_type": "display_data"
    }
   ],
   "source": [
    "inp = {'view': 'abs', 'range_x': [-3000, 3000], 'range_y': [-3000, 3000]}\n",
    "inp_f = {**inp, 'pcolor_opts': {'norm': LogNorm(vmin=1e-14, vmax=1e-6)}}\n",
    "inp_d = {**inp, 'pcolor_opts': {'norm': LogNorm(vmin=1e-26, vmax=1e-18), 'cmap': 'magma'}}\n",
    "\n",
    "fig, axs = plt.subplots(2, 3, figsize=(9, 6), sharex=True, sharey=True, constrained_layout=True)\n",
    "\n",
    "f1 = mesh.plot_slice(se1[:mesh.n_edges_x], v_type='Ex', ax=axs[0, 0], **inp_f)\n",
    "mesh.plot_slice(se1[mesh.n_edges_x:-mesh.n_edges_z], v_type='Ey', ax=axs[0, 1], **inp_f)\n",
    "mesh.plot_slice(se1[-mesh.n_edges_z:], v_type='Ez', ax=axs[0, 2], **inp_f)\n",
    "axs[0, 0].set_title('$|E_x^1$|')\n",
    "axs[0, 1].set_title('$|E_y^1$|')\n",
    "axs[0, 2].set_title('$|E_z^1$|')\n",
    "fig.colorbar(f1[0], ax=axs[0, :], fraction=0.07)\n",
    "\n",
    "f1 = mesh.plot_slice(diff[:mesh.n_edges_x], v_type='Ex', ax=axs[1, 0], **inp_d)\n",
    "mesh.plot_slice(diff[mesh.n_edges_x:-mesh.n_edges_z], v_type='Ey', ax=axs[1, 1], **inp_d)\n",
    "mesh.plot_slice(diff[-mesh.n_edges_z:], v_type='Ez', ax=axs[1, 2], **inp_d)\n",
    "axs[1, 0].set_title('$\\Delta|E_x^1-E_x^2$|')\n",
    "axs[1, 1].set_title('$\\Delta|E_y^1-E_y^2$|')\n",
    "axs[1, 2].set_title('$\\Delta|E_z^1-E_z^2$|')\n",
    "\n",
    "fig.colorbar(f1[0], ax=axs[1, :], fraction=0.07)"
   ]
  },
  {
   "cell_type": "markdown",
   "id": "a3f7094b",
   "metadata": {
    "iooxa": {
     "id": {
      "block": "DhTVsVeI3nN4GEflJtSf",
      "project": "5nikFkqMA7ZGysNRRIxy",
      "version": 2
     }
    }
   },
   "source": [
    "**NOTE** to above figure: the difference (lower row) should be zero.\n",
    "\n",
    "\n",
    "## 2. Vertical magnetic field\n",
    "\n",
    "### Issue\n",
    "The vertical electric field due to a vertical magnetic source should be **all zero**, but it isn't, and it has a strange pattern."
   ]
  },
  {
   "cell_type": "code",
   "execution_count": 6,
   "id": "dad92fdd",
   "metadata": {
    "iooxa": {
     "id": {
      "block": "UyLHJCzBELNt9dC40QTO",
      "project": "5nikFkqMA7ZGysNRRIxy",
      "version": 1
     },
     "outputId": null
    }
   },
   "outputs": [],
   "source": [
    "# Source and Survey\n",
    "sources = [\n",
    "    fdem.sources.MagDipole(frequency=frequency, location=np.r_[0, 0, 0], orientation=\"z\"),\n",
    "]\n",
    "survey = fdem.Survey(sources)\n",
    "\n",
    "# Simulation\n",
    "simulation_simpeg = fdem.Simulation3DMagneticFluxDensity(\n",
    "    mesh, survey=survey, solver=Pardiso,\n",
    "    sigmaMap=SimPEG.maps.IdentityMap(mesh),\n",
    ")\n",
    "\n",
    "# Get Ez field\n",
    "fields = simulation_simpeg.fields(cond_model)\n",
    "sefield = fields[survey.source_list[0], 'e']\n",
    "sez = sefield[-mesh.n_edges_z:].reshape(mesh.shape_edges_z, order='F')"
   ]
  },
  {
   "cell_type": "code",
   "execution_count": 7,
   "id": "f2ac93c7",
   "metadata": {
    "iooxa": {
     "id": {
      "block": "UCkovBhKckuaTVuY72gJ",
      "project": "5nikFkqMA7ZGysNRRIxy",
      "version": 1
     },
     "outputId": {
      "block": "0kDs51f0BYGqhNX4elyT",
      "project": "5nikFkqMA7ZGysNRRIxy",
      "version": 1
     }
    }
   },
   "outputs": [
    {
     "data": {
      "image/png": "[encoded data removed]",
      "text/plain": [
       "<Figure size 720x648 with 4 Axes>"
      ]
     },
     "metadata": {
      "needs_background": "light"
     },
     "output_type": "display_data"
    }
   ],
   "source": [
    "opts = {'view': 'abs', 'xlim': [-3000, 3000], 'ylim': [-3000, 3000], 'zlim': [-3000, 3000]}\n",
    "props = {'cmap': 'magma', 'norm': LogNorm(vmin=1e-20, vmax=1e-12, clip=True)}\n",
    "fig = plt.figure(figsize=(10, 9))\n",
    "mesh.plot_3d_slicer(sez.ravel('F'), v_type='Ez', fig=fig, **opts, pcolor_opts=props)"
   ]
  },
  {
   "cell_type": "markdown",
   "id": "7047dc47",
   "metadata": {
    "iooxa": {
     "id": {
      "block": "igCAGUBXo43Dhwe0evuQ",
      "project": "5nikFkqMA7ZGysNRRIxy",
      "version": 1
     }
    }
   },
   "source": [
    "**Note** to above figure: the field should be zero everywhere."
   ]
  },
  {
   "cell_type": "code",
   "execution_count": 8,
   "id": "046d31af",
   "metadata": {
    "iooxa": {
     "id": {
      "block": "OJswHpwfA90VGBpCjBb3",
      "project": "5nikFkqMA7ZGysNRRIxy",
      "version": 2
     },
     "outputId": {
      "block": "FtEZ5yilYukHD4ZCKdMQ",
      "project": "5nikFkqMA7ZGysNRRIxy",
      "version": 2
     }
    },
    "scrolled": true
   },
   "outputs": [
    {
     "data": {
      "text/html": [
       "<table style='border: 3px solid #ddd;'>\n",
       "  <tr>\n",
       "     <td style='text-align: center; font-weight: bold; font-size: 1.2em; border: 2px solid #fff;' colspan='6'>Mon Feb 07 15:07:23 2022 CET</td>\n",
       "  </tr>\n",
       "  <tr>\n",
       "    <td style='text-align: right; background-color: #ccc; border: 2px solid #fff;'>OS</td>\n",
       "    <td style='text-align: left; border: 2px solid #fff;'>Linux</td>\n",
       "    <td style='text-align: right; background-color: #ccc; border: 2px solid #fff;'>CPU(s)</td>\n",
       "    <td style='text-align: left; border: 2px solid #fff;'>4</td>\n",
       "    <td style='text-align: right; background-color: #ccc; border: 2px solid #fff;'>Machine</td>\n",
       "    <td style='text-align: left; border: 2px solid #fff;'>x86_64</td>\n",
       "  </tr>\n",
       "  <tr>\n",
       "    <td style='text-align: right; background-color: #ccc; border: 2px solid #fff;'>Architecture</td>\n",
       "    <td style='text-align: left; border: 2px solid #fff;'>64bit</td>\n",
       "    <td style='text-align: right; background-color: #ccc; border: 2px solid #fff;'>RAM</td>\n",
       "    <td style='text-align: left; border: 2px solid #fff;'>15.5 GiB</td>\n",
       "    <td style='text-align: right; background-color: #ccc; border: 2px solid #fff;'>Environment</td>\n",
       "    <td style='text-align: left; border: 2px solid #fff;'>Jupyter</td>\n",
       "  </tr>\n",
       "  <tr>\n",
       "     <td style='text-align: center; border: 2px solid #fff;' colspan='6'>Python 3.8.12 | packaged by conda-forge | (default, Oct 12 2021, 21:59:51) \n",
       "[GCC 9.4.0]</td>\n",
       "  </tr>\n",
       "  <tr>\n",
       "    <td style='text-align: right; background-color: #ccc; border: 2px solid #fff;'>SimPEG</td>\n",
       "    <td style='text-align: left; border: 2px solid #fff;'>0.16.0</td>\n",
       "    <td style='text-align: right; background-color: #ccc; border: 2px solid #fff;'>discretize</td>\n",
       "    <td style='text-align: left; border: 2px solid #fff;'>0.7.0</td>\n",
       "    <td style='text-align: right; background-color: #ccc; border: 2px solid #fff;'>pymatsolver</td>\n",
       "    <td style='text-align: left; border: 2px solid #fff;'>0.1.3</td>\n",
       "  </tr>\n",
       "  <tr>\n",
       "    <td style='text-align: right; background-color: #ccc; border: 2px solid #fff;'>vectormath</td>\n",
       "    <td style='text-align: left; border: 2px solid #fff;'>0.2.2</td>\n",
       "    <td style='text-align: right; background-color: #ccc; border: 2px solid #fff;'>properties</td>\n",
       "    <td style='text-align: left; border: 2px solid #fff;'>0.6.1</td>\n",
       "    <td style='text-align: right; background-color: #ccc; border: 2px solid #fff;'>numpy</td>\n",
       "    <td style='text-align: left; border: 2px solid #fff;'>1.21.2</td>\n",
       "  </tr>\n",
       "  <tr>\n",
       "    <td style='text-align: right; background-color: #ccc; border: 2px solid #fff;'>scipy</td>\n",
       "    <td style='text-align: left; border: 2px solid #fff;'>1.7.1</td>\n",
       "    <td style='text-align: right; background-color: #ccc; border: 2px solid #fff;'>cython</td>\n",
       "    <td style='text-align: left; border: 2px solid #fff;'>0.29.23</td>\n",
       "    <td style='text-align: right; background-color: #ccc; border: 2px solid #fff;'>IPython</td>\n",
       "    <td style='text-align: left; border: 2px solid #fff;'>7.23.1</td>\n",
       "  </tr>\n",
       "  <tr>\n",
       "    <td style='text-align: right; background-color: #ccc; border: 2px solid #fff;'>matplotlib</td>\n",
       "    <td style='text-align: left; border: 2px solid #fff;'>3.5.1</td>\n",
       "    <td style='text-align: right; background-color: #ccc; border: 2px solid #fff;'>ipywidgets</td>\n",
       "    <td style='text-align: left; border: 2px solid #fff;'>7.6.3</td>\n",
       "    <td style= border: 2px solid #fff;'></td>\n",
       "    <td style= border: 2px solid #fff;'></td>\n",
       "  </tr>\n",
       "  <tr>\n",
       "     <td style='text-align: center; background-color: #ddd;border: 2px solid #fff;' colspan='6'>Intel(R) oneAPI Math Kernel Library Version 2021.3-Product Build 20210617 for Intel(R) 64 architecture applications</td>\n",
       "  </tr>\n",
       "</table>"
      ],
      "text/plain": [
       "\n",
       "--------------------------------------------------------------------------------\n",
       "  Date: Mon Feb 07 15:07:23 2022 CET\n",
       "\n",
       "                OS : Linux\n",
       "            CPU(s) : 4\n",
       "           Machine : x86_64\n",
       "      Architecture : 64bit\n",
       "               RAM : 15.5 GiB\n",
       "       Environment : Jupyter\n",
       "\n",
       "  Python 3.8.12 | packaged by conda-forge | (default, Oct 12 2021, 21:59:51)\n",
       "  [GCC 9.4.0]\n",
       "\n",
       "            SimPEG : 0.16.0\n",
       "        discretize : 0.7.0\n",
       "       pymatsolver : 0.1.3\n",
       "        vectormath : 0.2.2\n",
       "        properties : 0.6.1\n",
       "             numpy : 1.21.2\n",
       "             scipy : 1.7.1\n",
       "            cython : 0.29.23\n",
       "           IPython : 7.23.1\n",
       "        matplotlib : 3.5.1\n",
       "        ipywidgets : 7.6.3\n",
       "\n",
       "  Intel(R) oneAPI Math Kernel Library Version 2021.3-Product Build 20210617\n",
       "  for Intel(R) 64 architecture applications\n",
       "--------------------------------------------------------------------------------"
      ]
     },
     "execution_count": 8,
     "metadata": {},
     "output_type": "execute_result"
    }
   ],
   "source": [
    "SimPEG.Report()"
   ]
  }
 ],
 "metadata": {
  "iooxa": {
   "id": {
    "block": "uKSFPi446hayipcBTYMq",
    "project": "5nikFkqMA7ZGysNRRIxy",
    "version": 3
   }
  },
  "kernelspec": {
   "display_name": "Python 3",
   "language": "python",
   "name": "python3"
  },
  "language_info": {
   "codemirror_mode": {
    "name": "ipython",
    "version": 3
   },
   "file_extension": ".py",
   "mimetype": "text/x-python",
   "name": "python",
   "nbconvert_exporter": "python",
   "pygments_lexer": "ipython3",
   "version": "3.8.12"
  }
 },
 "nbformat": 4,
 "nbformat_minor": 5
}
