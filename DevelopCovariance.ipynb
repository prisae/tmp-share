{
 "cells": [
  {
   "cell_type": "code",
   "execution_count": 1,
   "id": "719a3bd7-4f23-4ee5-a476-dca928a1a363",
   "metadata": {},
   "outputs": [],
   "source": [
    "import numpy as np\n",
    "import scipy as sp\n",
    "import matplotlib.pyplot as plt\n",
    "%load_ext memory_profiler"
   ]
  },
  {
   "cell_type": "code",
   "execution_count": 2,
   "id": "1261af7d-7412-432d-96ee-b6a59fdb7d4d",
   "metadata": {},
   "outputs": [],
   "source": [
    "# Covariogram parameters \n",
    "L = (10, 10) \n",
    "theta = 45 * np.pi/180\n",
    "var_prior = 1.0\n",
    "nx = 60\n",
    "ny = 60\n",
    "nc = nx*ny\n",
    "inp = (nx, ny, L, theta, var_prior)"
   ]
  },
  {
   "cell_type": "code",
   "execution_count": 3,
   "id": "abab05b5-3d33-43fe-9ead-ef7f5b23f252",
   "metadata": {},
   "outputs": [],
   "source": [
    "def CalcHL(x0, x1, L, theta):\n",
    "    cosT = np.cos(theta)\n",
    "    sinT = np.sin(theta)\n",
    "    dx = x1[0] - x0[0]\n",
    "    dy = x1[1] - x0[1]\n",
    "    dxRot = np.array([[cosT, -sinT], [sinT, cosT]]) @ np.array([[dx], [dy]])\n",
    "    dxFlat = dxRot.flatten()\n",
    "    return np.sqrt((dxFlat[0]/L[0])**2 + (dxFlat[1]/L[1])**2)\n",
    "\n",
    "\n",
    "def SphereFunction(x0, x1, L, theta, var_prior):\n",
    "    hl = CalcHL(x0, x1, L, theta)\n",
    "    if (hl > 1):\n",
    "        return 0\n",
    "    return var_prior * (1.0 - 3.0/2.0*hl + (hl**3)/2)\n",
    "\n",
    "\n",
    "def original(Ni, Nj, L, theta, var_prior):\n",
    "    Nmatrix = Ni * Nj\n",
    "    Cm = np.empty([Nmatrix, Nmatrix])\n",
    "    for index0 in range(Nmatrix):\n",
    "        I0 = ((index0 % Ni) + 1, (index0 // Ni) + 1)\n",
    "        for index1 in range(Nmatrix):\n",
    "            I1 = ((index1 % Ni) + 1, (index1 // Ni) + 1)\n",
    "            Cm[index0, index1] = SphereFunction(I0, I1, L, theta, var_prior)\n",
    "    return Cm"
   ]
  },
  {
   "cell_type": "code",
   "execution_count": 4,
   "id": "305b165f-2e20-4cd4-8186-3942bee70563",
   "metadata": {},
   "outputs": [],
   "source": [
    "def vectorized(Ni, Nj, L, theta, var_prior):\n",
    "    cosT = np.cos(theta)\n",
    "    sinT = np.sin(theta)\n",
    "    Nmatrix = Ni * Nj\n",
    "    index = np.arange(Nmatrix)  # 1D-index\n",
    "    I = index % Ni + 1  # 2D-indices\n",
    "    J = index // Ni + 1\n",
    "    I0, I1 = np.meshgrid(I, I)\n",
    "    J0, J1 = np.meshgrid(J, J)\n",
    "    dx = I1 - I0\n",
    "    dy = J1 - J0\n",
    "    # rotate\n",
    "    dxRot = cosT * dx - sinT * dy\n",
    "    dyRot = sinT * dx + cosT * dy\n",
    "    # norm\n",
    "    hl = np.sqrt((dxRot/L[0])**2 + (dyRot/L[1])**2)\n",
    "    Cm = var_prior * (1.0 - 3.0 / 2.0 * hl + (hl ** 3) / 2)\n",
    "    Cm[hl > 1] = 0\n",
    "    return Cm"
   ]
  },
  {
   "cell_type": "code",
   "execution_count": 5,
   "id": "f90c3d33-e585-4b28-9731-464a090a10fd",
   "metadata": {},
   "outputs": [],
   "source": [
    "def fullmatrix(nx, ny, length, theta, var_prior):\n",
    "    nc = nx*ny\n",
    "    cost = np.cos(theta)\n",
    "    sint = np.sin(theta)\n",
    "\n",
    "    # Fill the first row nx * nc\n",
    "    tmp = np.zeros([nx, nc])\n",
    "    for i in range(nx):\n",
    "        for j in range(i+1, nc):\n",
    "            d0 = j % nx - i\n",
    "            d1 = j // nx\n",
    "            rot0 = cost*d0 - sint*d1\n",
    "            rot1 = sint*d0 + cost*d1\n",
    "            hl = np.sqrt((rot0/length[0])**2 + (rot1/length[1])**2)\n",
    "\n",
    "            # Calculate value.\n",
    "            if hl <= 1:\n",
    "                tmp[i, j] = var_prior * (1 - 3/2*hl + (hl**3)/2)\n",
    "\n",
    "    # Fill the upper triangle by copying the first row\n",
    "    cov = np.zeros([nc, nc])\n",
    "    for j in range(ny):\n",
    "        cov[nx*j:nx*(j+1), nx*j:] = tmp[:, :nc-nx*j]\n",
    "\n",
    "    # Add the diagonal\n",
    "    cov += np.diag(np.ones(nc))\n",
    "\n",
    "    return cov.T"
   ]
  },
  {
   "cell_type": "code",
   "execution_count": 6,
   "id": "fde13484-b5ab-46f1-8d8d-cc9b817402d4",
   "metadata": {},
   "outputs": [],
   "source": [
    "def sparsematrix(nx, ny, length, theta, var_prior, dtype='float32'):\n",
    "    nc = nx*ny\n",
    "    cost = np.cos(theta)\n",
    "    sint = np.sin(theta)\n",
    "    \n",
    "    # 1. Fill the first row nx * nc, but vertically\n",
    "    tmp1 = np.zeros([nx, nc], dtype=dtype)\n",
    "    for i in range(nx):\n",
    "        tmp1[i, 0] = 1.0  # diagonal\n",
    "        for j in range(i+1, nc):\n",
    "            d0 = (j % nx) - i\n",
    "            d1 = (j // nx)\n",
    "            rot0 = cost*d0 - sint*d1\n",
    "            rot1 = sint*d0 + cost*d1\n",
    "            hl = np.sqrt((rot0/length[0])**2 + (rot1/length[1])**2)\n",
    "            if hl <= 1:\n",
    "                tmp1[i, j-i] = var_prior * (1 - 1.5*hl + hl**3/2)  \n",
    "\n",
    "    # 2. Get the indices of the non-zero columns\n",
    "    ind = np.where(tmp1.sum(axis=0))[0]\n",
    "\n",
    "    # 3. Expand the non-zero colums ny-times\n",
    "    tmp2 = np.zeros([nc, ind.size], dtype=dtype)\n",
    "    for i, j in enumerate(ind):\n",
    "        n = j//nx\n",
    "        tmp2[:nc-n*nx, i] = np.tile(tmp1[:, j], ny-n)\n",
    "\n",
    "    # 4. Construct array through sparse diagonal array\n",
    "    cov = sp.sparse.dia_array((tmp2.T, -ind), shape=(nc, nc))\n",
    "    return cov.toarray()"
   ]
  },
  {
   "cell_type": "code",
   "execution_count": 7,
   "id": "1fcce0c9-510a-4c30-b93e-1097c43f6f07",
   "metadata": {},
   "outputs": [
    {
     "name": "stdout",
     "output_type": "stream",
     "text": [
      "Identical :: original==vectorized:  True,  original==fullmatrix:  True,  original==sparsematrix:  True\n"
     ]
    },
    {
     "data": {
      "image/png": "[encoded data removed]",
      "text/plain": [
       "<Figure size 640x480 with 5 Axes>"
      ]
     },
     "metadata": {},
     "output_type": "display_data"
    }
   ],
   "source": [
    "orig = original(*inp)\n",
    "vect = vectorized(*inp)\n",
    "full = fullmatrix(*inp)\n",
    "sparse = sparsematrix(*inp, dtype='float64')\n",
    "# float32 is sufficient, but for the equality check we run with 64\n",
    "\n",
    "print(\"Identical :: original==vectorized: \",\n",
    "      f\"{np.allclose(sp.linalg.cholesky(orig, True), sp.linalg.cholesky(vect, True))}, \",\n",
    "      \"original==fullmatrix: \",\n",
    "      f\"{np.allclose(sp.linalg.cholesky(orig, True), sp.linalg.cholesky(full, True))}, \",\n",
    "      \"original==sparsematrix: \",\n",
    "      f\"{np.allclose(sp.linalg.cholesky(orig, True), sp.linalg.cholesky(sparse, True))}\")\n",
    "\n",
    "fig, axs = plt.subplots(1, 4, sharex=True, sharey=True, constrained_layout=True)\n",
    "axs[0].set_title('original')\n",
    "axs[1].set_title('vectorized')\n",
    "axs[2].set_title('full matrix')\n",
    "axs[3].set_title('sparse matrix')\n",
    "im = axs[0].imshow(orig, aspect='equal', vmin=0, vmax=1)\n",
    "axs[1].imshow(vect, aspect='equal', vmin=0, vmax=1)\n",
    "axs[2].imshow(full, aspect='equal', vmin=0, vmax=1)\n",
    "axs[3].imshow(sparse, aspect='equal', vmin=0, vmax=1)\n",
    "fig.colorbar(im, ax=axs, orientation='horizontal');"
   ]
  },
  {
   "cell_type": "code",
   "execution_count": 8,
   "id": "66dd87c2-bc51-44cf-b843-08507d371da2",
   "metadata": {},
   "outputs": [
    {
     "name": "stdout",
     "output_type": "stream",
     "text": [
      "55 s ± 561 ms per loop (mean ± std. dev. of 7 runs, 1 loop each)\n",
      "467 ms ± 8.49 ms per loop (mean ± std. dev. of 7 runs, 1 loop each)\n",
      "236 ms ± 1.23 ms per loop (mean ± std. dev. of 7 runs, 1 loop each)\n",
      "195 ms ± 587 µs per loop (mean ± std. dev. of 7 runs, 10 loops each)\n"
     ]
    }
   ],
   "source": [
    "%timeit original(*inp)\n",
    "%timeit vectorized(*inp)\n",
    "%timeit fullmatrix(*inp)\n",
    "%timeit sparsematrix(*inp)"
   ]
  },
  {
   "cell_type": "code",
   "execution_count": 9,
   "id": "948585c1-cb56-4a79-a2fb-bb2aebd54d38",
   "metadata": {},
   "outputs": [
    {
     "name": "stdout",
     "output_type": "stream",
     "text": [
      "peak memory: 970.51 MiB, increment: 98.67 MiB\n",
      "peak memory: 1914.55 MiB, increment: 1042.74 MiB\n",
      "peak memory: 949.59 MiB, increment: 77.75 MiB\n",
      "peak memory: 871.84 MiB, increment: 0.00 MiB\n"
     ]
    }
   ],
   "source": [
    "%memit original(*inp)\n",
    "%memit vectorized(*inp)\n",
    "%memit fullmatrix(*inp)\n",
    "%memit sparsematrix(*inp)"
   ]
  }
 ],
 "metadata": {
  "kernelspec": {
   "display_name": "Python 3 (ipykernel)",
   "language": "python",
   "name": "python3"
  },
  "language_info": {
   "codemirror_mode": {
    "name": "ipython",
    "version": 3
   },
   "file_extension": ".py",
   "mimetype": "text/x-python",
   "name": "python",
   "nbconvert_exporter": "python",
   "pygments_lexer": "ipython3",
   "version": "3.10.10"
  }
 },
 "nbformat": 4,
 "nbformat_minor": 5
}
